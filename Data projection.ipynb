{
 "cells": [
  {
   "cell_type": "code",
   "execution_count": 16,
   "id": "ab558101",
   "metadata": {},
   "outputs": [
    {
     "name": "stderr",
     "output_type": "stream",
     "text": [
      "23/10/08 22:36:43 WARN Utils: Service 'SparkUI' could not bind on port 4040. Attempting port 4041.\n"
     ]
    },
    {
     "name": "stdout",
     "output_type": "stream",
     "text": [
      "+--------------------------------------------------------------------------------------------------------------------------+\n",
      "|scaled_features                                                                                                           |\n",
      "+--------------------------------------------------------------------------------------------------------------------------+\n",
      "|[0.1170161833092233,-0.4407795173724145,-0.5771568795300195,0.9666043646997585,-0.6519504882184642,-0.9945999674017559]   |\n",
      "|[-0.10061772163437496,-0.35714192191974115,-0.4110829862866919,0.5035108274067401,0.0765970401638524,0.24030869312766742] |\n",
      "|[0.1170161833092233,3.8551515217876258,-0.928988285666641,-1.692316362811832,0.12158568938193093,-0.15928074644728682]    |\n",
      "|[0.7699178981400201,-0.26590090869864297,-0.9029470318504924,-1.6434011342727939,-0.9514271680880617,-0.16064453293047778]|\n",
      "|[-0.7535194364651736,4.200833307211294,-1.1192026613672046,1.11359395768131,-1.1864424998242928,-1.656718304990972]       |\n",
      "+--------------------------------------------------------------------------------------------------------------------------+\n",
      "only showing top 5 rows\n",
      "\n"
     ]
    }
   ],
   "source": [
    "from pyspark.sql import SparkSession\n",
    "from pyspark.ml.feature import StandardScaler, VectorAssembler\n",
    "from pyspark.sql.functions import col\n",
    "\n",
    "\n",
    "\n",
    "# Initialize a Spark session\n",
    "spark = SparkSession.builder.appName(\"StandardScalerExample\").getOrCreate()\n",
    "\n",
    "# Step 1: Read the CSV file into a Spark DataFrame\n",
    "file_path = 'Dataset/reduced_data.csv'\n",
    "df = spark.read.csv(file_path, header=True, inferSchema=True)\n",
    "\n",
    "# Step 2: Selecting numerical columns\n",
    "numerical_features = df.select(\n",
    "    \"magnitude\", \"depth\", \"latitude\", \"longitude\", \"number_of_buildings_impacted\", \"economic_loss\"\n",
    ")\n",
    "\n",
    "# Step 3: Standardizing the data using StandardScaler\n",
    "feature_columns = [\"magnitude\", \"depth\", \"latitude\", \"longitude\", \"number_of_buildings_impacted\", \"economic_loss\"]\n",
    "assembler = VectorAssembler(inputCols=feature_columns, outputCol=\"features\")\n",
    "numerical_features = assembler.transform(numerical_features)\n",
    "\n",
    "scaler = StandardScaler(inputCol=\"features\", outputCol=\"scaled_features\", withStd=True, withMean=True)\n",
    "scaler_model = scaler.fit(numerical_features)\n",
    "scaled_data = scaler_model.transform(numerical_features)\n",
    "\n",
    "# Display the first 5 rows of the standardized data\n",
    "scaled_data.select(\"scaled_features\").show(5, truncate=False)\n",
    "\n",
    "\n"
   ]
  },
  {
   "cell_type": "code",
   "execution_count": 24,
   "id": "b0f57ffc",
   "metadata": {},
   "outputs": [
    {
     "name": "stdout",
     "output_type": "stream",
     "text": [
      "DenseMatrix([[ 1.00000000e+00,  3.00348613e-02, -5.41626695e-02,\n",
      "               9.24153188e-04, -6.69707430e-02, -1.98363640e-02],\n",
      "             [ 3.00348613e-02,  1.00000000e+00, -1.01058349e-01,\n",
      "               4.05053717e-03, -4.13663641e-02, -1.78000656e-03],\n",
      "             [-5.41626695e-02, -1.01058349e-01,  1.00000000e+00,\n",
      "              -1.52585010e-01,  6.29822022e-02, -1.20476090e-02],\n",
      "             [ 9.24153188e-04,  4.05053717e-03, -1.52585010e-01,\n",
      "               1.00000000e+00, -6.22873097e-02, -8.84192647e-03],\n",
      "             [-6.69707430e-02, -4.13663641e-02,  6.29822022e-02,\n",
      "              -6.22873097e-02,  1.00000000e+00, -7.90168924e-03],\n",
      "             [-1.98363640e-02, -1.78000656e-03, -1.20476090e-02,\n",
      "              -8.84192647e-03, -7.90168924e-03,  1.00000000e+00]])\n"
     ]
    },
    {
     "name": "stderr",
     "output_type": "stream",
     "text": [
      "/home/ubuntu/.local/lib/python3.10/site-packages/pyspark/sql/context.py:125: FutureWarning: Deprecated in 3.0.0. Use SparkSession.builder.getOrCreate() instead.\n",
      "  warnings.warn(\n"
     ]
    }
   ],
   "source": [
    "from pyspark.sql import SparkSession\n",
    "from pyspark.ml.feature import StandardScaler, VectorAssembler\n",
    "from pyspark.ml.stat import Correlation\n",
    "from pyspark.sql.functions import col\n",
    "\n",
    "# Compute the covariance matrix using Correlation\n",
    "corr_matrix = Correlation.corr(scaled_data, \"scaled_features\")\n",
    "\n",
    "# Extract the covariance matrix\n",
    "cov_matrix = corr_matrix.collect()[0][\"pearson({})\".format(\"scaled_features\")]\n",
    "\n",
    "# Display the covariance matrix\n",
    "print(cov_matrix)\n",
    "\n",
    "# Stop the Spark session\n",
    "\n"
   ]
  },
  {
   "cell_type": "code",
   "execution_count": 25,
   "id": "464138dd",
   "metadata": {},
   "outputs": [
    {
     "name": "stdout",
     "output_type": "stream",
     "text": [
      "Eigenvalues: [0.20815011 0.1711927  0.16719359 0.16403745 0.15421246 0.1352137 ]\n",
      "Eigenvectors:\n",
      "[-0.29051562  0.66922508 -0.02782732  0.3135669  -0.57697615 -0.18904612]\n",
      "[-0.36095047  0.23807798 -0.35935169 -0.72234273  0.19759612 -0.35082296]\n",
      "[ 0.61321641  0.21947829 -0.01148941  0.17862789  0.26846526 -0.68679065]\n",
      "[-0.48676942 -0.50438506  0.35982117  0.16332658 -0.0755741  -0.58889129]\n",
      "[ 0.41513441 -0.24014236  0.10730092 -0.48109394 -0.71707184 -0.11330571]\n",
      "[ 1.65498373e-04 -3.67713622e-01 -8.53800465e-01  2.99769762e-01\n",
      " -1.89940087e-01 -9.93593646e-02]\n"
     ]
    }
   ],
   "source": [
    "from pyspark.ml.feature import PCA\n",
    "from pyspark.ml.stat import Correlation\n",
    "# Step 4: Perform PCA for eigen decomposition\n",
    "num_principal_components = 6  # Number of principal components to keep\n",
    "pca = PCA(k=num_principal_components, inputCol=\"scaled_features\", outputCol=\"pca_features\")\n",
    "pca_model = pca.fit(scaled_data)\n",
    "eigenvalues = pca_model.explainedVariance.toArray()\n",
    "eigenvectors = pca_model.pc.toArray()\n",
    "\n",
    "# Display the eigenvalues and eigenvectors\n",
    "print(\"Eigenvalues:\", eigenvalues)\n",
    "print(\"Eigenvectors:\")\n",
    "for vector in eigenvectors:\n",
    "    print(vector)\n",
    "\n"
   ]
  },
  {
   "cell_type": "code",
   "execution_count": 22,
   "id": "3da2a060",
   "metadata": {},
   "outputs": [
    {
     "data": {
      "image/png": "[encoded data removed]",
      "text/plain": [
       "<Figure size 720x360 with 1 Axes>"
      ]
     },
     "metadata": {
      "needs_background": "light"
     },
     "output_type": "display_data"
    }
   ],
   "source": [
    "import numpy as np\n",
    "import matplotlib.pyplot as plt\n",
    "# Calculate explained variance and cumulative explained variance\n",
    "explained_variance = eigenvalues / np.sum(eigenvalues)\n",
    "cumulative_explained_variance = np.cumsum(explained_variance)\n",
    "\n",
    "# Convert explained variance and cumulative explained variance to a list for plotting\n",
    "explained_variance_list = explained_variance.tolist()\n",
    "cumulative_explained_variance_list = cumulative_explained_variance.tolist()\n",
    "\n",
    "# Plotting\n",
    "plt.figure(figsize=(10, 5))\n",
    "\n",
    "# Individual explained variance\n",
    "plt.bar(range(len(explained_variance_list)), explained_variance_list, alpha=0.5, align='center', label='Individual explained variance')\n",
    "\n",
    "# Cumulative explained variance\n",
    "plt.step(range(len(cumulative_explained_variance_list)), cumulative_explained_variance_list, where='mid', label='Cumulative explained variance')\n",
    "\n",
    "plt.ylabel('Explained variance ratio')\n",
    "plt.xlabel('Principal components')\n",
    "plt.legend(loc='best')\n",
    "plt.tight_layout()\n",
    "plt.show()"
   ]
  },
  {
   "cell_type": "code",
   "execution_count": 28,
   "id": "282c3a24",
   "metadata": {},
   "outputs": [
    {
     "name": "stdout",
     "output_type": "stream",
     "text": [
      "+-------------------------------------------------------------------------------------------------------------------------+\n",
      "|pca_features                                                                                                             |\n",
      "+-------------------------------------------------------------------------------------------------------------------------+\n",
      "|[-0.9701426508790059,-0.11855505433292926,1.2888095499347487,0.4253605814080012,0.273801045379327,0.13236770432637648]   |\n",
      "|[-0.3071971000294026,-0.6033096334747959,0.12007968989656864,0.2704212066136684,-0.26149954604839376,0.09757398310350004]|\n",
      "|[-1.120968753071569,1.675194999693568,-1.8378289537937886,-3.2966334250122205,0.5158097762203011,0.2620634006864085]     |\n",
      "|[-0.27643738255580763,1.3702220711599964,-0.4717596404191539,0.4133592148056165,0.09777786427001443,1.6594180170812072]  |\n",
      "|[-3.018567801327912,0.582643939140457,0.21214603221518594,-3.214605232436968,2.045646950772653,-0.9193855261813888]      |\n",
      "|[-3.5453783809941206,0.33969528156004647,-2.2335074588422503,-2.1448410552143673,1.3733879235173472,-1.3885842777518258] |\n",
      "|[-3.201307417117181,-0.10928280864713694,-2.168038231270768,-2.2523518622693848,1.334318640578786,-1.2729997704925455]   |\n",
      "|[0.7669547351043852,-0.1424828708506507,-0.5704882740102097,0.10643813669259794,0.22305574260380612,0.7314240926825166]  |\n",
      "|[0.9912179906509337,0.6811910209021391,0.5348386246321125,-0.18218831557318874,0.496396785537727,0.6756921337545919]     |\n",
      "|[0.24209934593743404,1.3276815900647096,-1.1337992530442638,1.1293232558935915,-0.4487003427565006,0.21118099066121684]  |\n",
      "|[0.21210908554981037,0.163841372575321,1.6962673445601522,0.06532664221685228,0.3543016876871767,-0.43639328479089506]   |\n",
      "|[-0.16050172204178864,-0.8543230145137036,-0.28660796132319705,1.162208443826008,1.5214087633118323,-0.3140171535673846] |\n",
      "|[-1.751661597579411,-0.48145748256881105,-0.3362790139231189,0.332761261700389,0.344242154818547,-0.08068612248328902]   |\n",
      "|[-1.701131228795599,1.2513045279942614,1.15907146377866,0.41154278173152664,0.11588978270209853,-0.32417142160070617]    |\n",
      "|[0.7631176758128014,-0.6792820658293902,0.659232410115141,0.048395862606203544,0.30786753742776213,-0.5478680205997399]  |\n",
      "|[0.6230739089533623,-0.05497090499999315,-0.05465500792921422,-0.9873676209246732,-0.3087264773982261,2.146363767350582] |\n",
      "|[-0.418315270392354,-0.4805608063380784,-0.836638702461626,1.247459956108209,0.35775944172474505,-0.5769359707326246]    |\n",
      "|[-0.9095681939600451,0.5541758310974879,-1.6166430436983759,-3.8847299827195614,0.9020856694642915,-0.46206881092463686] |\n",
      "|[-0.8641824846712203,1.3349186522086323,-0.13473775657924542,-1.0015125687558024,0.29063320622660466,0.6038491359434176] |\n",
      "|[-1.9424632865158538,-1.2995658968105874,-0.48176679576173054,0.8639758316973409,-0.2084142338310237,1.0568960847803266] |\n",
      "+-------------------------------------------------------------------------------------------------------------------------+\n",
      "only showing top 20 rows\n",
      "\n"
     ]
    }
   ],
   "source": [
    "projected_data = pca_model.transform(scaled_data).select(\"pca_features\")\n",
    "\n",
    "# Display the projected data\n",
    "projected_data.show(truncate=False)"
   ]
  },
  {
   "cell_type": "code",
   "execution_count": null,
   "id": "457348d0",
   "metadata": {},
   "outputs": [],
   "source": []
  },
  {
   "cell_type": "code",
   "execution_count": null,
   "id": "f452bbeb",
   "metadata": {},
   "outputs": [],
   "source": []
  }
 ],
 "metadata": {
  "kernelspec": {
   "display_name": "Python 3 (ipykernel)",
   "language": "python",
   "name": "python3"
  },
  "language_info": {
   "codemirror_mode": {
    "name": "ipython",
    "version": 3
   },
   "file_extension": ".py",
   "mimetype": "text/x-python",
   "name": "python",
   "nbconvert_exporter": "python",
   "pygments_lexer": "ipython3",
   "version": "3.10.4"
  }
 },
 "nbformat": 4,
 "nbformat_minor": 5
}
