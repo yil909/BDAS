{
 "cells": [
  {
   "cell_type": "code",
   "execution_count": 4,
   "id": "b5ac8b7c",
   "metadata": {},
   "outputs": [
    {
     "name": "stderr",
     "output_type": "stream",
     "text": [
      "WARNING: An illegal reflective access operation has occurred\n",
      "WARNING: Illegal reflective access by org.apache.spark.unsafe.Platform (file:/home/ubuntu/spark-3.2.1-bin-hadoop2.7/jars/spark-unsafe_2.12-3.2.1.jar) to constructor java.nio.DirectByteBuffer(long,int)\n",
      "WARNING: Please consider reporting this to the maintainers of org.apache.spark.unsafe.Platform\n",
      "WARNING: Use --illegal-access=warn to enable warnings of further illegal reflective access operations\n",
      "WARNING: All illegal access operations will be denied in a future release\n",
      "Using Spark's default log4j profile: org/apache/spark/log4j-defaults.properties\n",
      "Setting default log level to \"WARN\".\n",
      "To adjust logging level use sc.setLogLevel(newLevel). For SparkR, use setLogLevel(newLevel).\n",
      "23/10/07 09:14:03 WARN NativeCodeLoader: Unable to load native-hadoop library for your platform... using builtin-java classes where applicable\n"
     ]
    }
   ],
   "source": [
    "import findspark\n",
    "findspark.init('/home/ubuntu/spark-3.2.1-bin-hadoop2.7')\n",
    "import pyspark\n",
    "from pyspark.sql import SparkSession\n",
    "spark = SparkSession.builder.appName('basics').getOrCreate()\n"
   ]
  },
  {
   "cell_type": "code",
   "execution_count": 5,
   "id": "e39f4d3d",
   "metadata": {},
   "outputs": [
    {
     "name": "stdout",
     "output_type": "stream",
     "text": [
      "Number of Rows: 782\n",
      "Number of Columns: 19\n"
     ]
    }
   ],
   "source": [
    "file_path = 'Dataset/earthquake_data.csv'\n",
    "df_earthquake = spark.read.csv(file_path, header=True, inferSchema=True)\n",
    "num_rows = df_earthquake.count()\n",
    "num_columns = len(df_earthquake.columns)\n",
    "print(f\"Number of Rows: {num_rows}\")\n",
    "print(f\"Number of Columns: {num_columns}\")"
   ]
  },
  {
   "cell_type": "code",
   "execution_count": 6,
   "id": "54e74aed",
   "metadata": {},
   "outputs": [
    {
     "name": "stdout",
     "output_type": "stream",
     "text": [
      "+--------------------+---------+----------------+---+---+-----+-------+---+---+---+-----+----+-------+-------+--------+---------+--------------------+---------+---------------+\n",
      "|               title|magnitude|       date_time|cdi|mmi|alert|tsunami|sig|net|nst| dmin| gap|magType|  depth|latitude|longitude|            location|continent|        country|\n",
      "+--------------------+---------+----------------+---+---+-----+-------+---+---+---+-----+----+-------+-------+--------+---------+--------------------+---------+---------------+\n",
      "|M 7.0 - 18 km SW ...|      7.0|22-11-2022 02:03|  8|  7|green|      1|768| us|117|0.509|17.0|    mww|   14.0| -9.7963|  159.596|Malango, Solomon ...|  Oceania|Solomon Islands|\n",
      "|M 6.9 - 204 km SW...|      6.9|18-11-2022 13:37|  4|  4|green|      0|735| us| 99|2.229|34.0|    mww|   25.0| -4.9559|  100.738| Bengkulu, Indonesia|     null|           null|\n",
      "|            M 7.0 - |      7.0|12-11-2022 07:09|  3|  3|green|      1|755| us|147|3.125|18.0|    mww|  579.0|-20.0508| -178.346|                null|  Oceania|           Fiji|\n",
      "|M 7.3 - 205 km ES...|      7.3|11-11-2022 10:48|  5|  5|green|      1|833| us|149|1.865|21.0|    mww|   37.0|-19.2918| -172.129|       Neiafu, Tonga|     null|           null|\n",
      "|            M 6.6 - |      6.6|09-11-2022 10:14|  0|  2|green|      1|670| us|131|4.998|27.0|    mww|624.464|-25.5948|  178.278|                null|     null|           null|\n",
      "+--------------------+---------+----------------+---+---+-----+-------+---+---+---+-----+----+-------+-------+--------+---------+--------------------+---------+---------------+\n",
      "only showing top 5 rows\n",
      "\n"
     ]
    }
   ],
   "source": [
    "df_earthquake.show(5)"
   ]
  },
  {
   "cell_type": "code",
   "execution_count": 7,
   "id": "b014fbd5",
   "metadata": {},
   "outputs": [
    {
     "name": "stdout",
     "output_type": "stream",
     "text": [
      "title: string\n",
      "magnitude: double\n",
      "date_time: string\n",
      "cdi: int\n",
      "mmi: int\n",
      "alert: string\n",
      "tsunami: int\n",
      "sig: int\n",
      "net: string\n",
      "nst: int\n",
      "dmin: double\n",
      "gap: double\n",
      "magType: string\n",
      "depth: double\n",
      "latitude: double\n",
      "longitude: double\n",
      "location: string\n",
      "continent: string\n",
      "country: string\n"
     ]
    }
   ],
   "source": [
    "data_types = df_earthquake.dtypes\n",
    "for column, dtype in data_types:\n",
    "    print(f\"{column}: {dtype}\")\n"
   ]
  },
  {
   "cell_type": "code",
   "execution_count": null,
   "id": "c967e8a4",
   "metadata": {},
   "outputs": [],
   "source": []
  }
 ],
 "metadata": {
  "kernelspec": {
   "display_name": "Python 3 (ipykernel)",
   "language": "python",
   "name": "python3"
  },
  "language_info": {
   "codemirror_mode": {
    "name": "ipython",
    "version": 3
   },
   "file_extension": ".py",
   "mimetype": "text/x-python",
   "name": "python",
   "nbconvert_exporter": "python",
   "pygments_lexer": "ipython3",
   "version": "3.10.4"
  }
 },
 "nbformat": 4,
 "nbformat_minor": 5
}
