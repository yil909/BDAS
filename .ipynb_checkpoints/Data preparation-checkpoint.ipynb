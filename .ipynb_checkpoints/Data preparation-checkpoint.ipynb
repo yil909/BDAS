{
 "cells": [
  {
   "cell_type": "code",
   "execution_count": 3,
   "id": "8db2bf9e",
   "metadata": {},
   "outputs": [
    {
     "name": "stdout",
     "output_type": "stream",
     "text": [
      "+---------+-------+--------+---------+----------------+-------+\n",
      "|magnitude|  depth|latitude|longitude|       date_time|tsunami|\n",
      "+---------+-------+--------+---------+----------------+-------+\n",
      "|      7.0|   14.0| -9.7963|  159.596|22-11-2022 02:03|      1|\n",
      "|      6.9|   25.0| -4.9559|  100.738|18-11-2022 13:37|      0|\n",
      "|      7.0|  579.0|-20.0508| -178.346|12-11-2022 07:09|      1|\n",
      "|      7.3|   37.0|-19.2918| -172.129|11-11-2022 10:48|      1|\n",
      "|      6.6|624.464|-25.5948|  178.278|09-11-2022 10:14|      1|\n",
      "|      7.0|  660.0|-26.0442|  178.381|09-11-2022 09:51|      1|\n",
      "|      6.8|630.379|-25.9678|  178.363|09-11-2022 09:38|      1|\n",
      "|      6.7|   20.0|  7.6712| -82.3396|20-10-2022 11:57|      1|\n",
      "|      6.8|   20.0|   18.33| -102.913|22-09-2022 06:16|      1|\n",
      "|      7.6| 26.943| 18.3667| -103.252|19-09-2022 18:05|      1|\n",
      "|      6.9|   10.0| 23.1444|  121.307|18-09-2022 06:44|      1|\n",
      "|      6.5|   10.0|  23.029|  121.348|17-09-2022 13:41|      1|\n",
      "|      7.0|  137.0|-21.2077|  170.239|14-09-2022 11:04|      1|\n",
      "|      7.6|  116.0| -6.2237|  146.471|10-09-2022 23:47|      1|\n",
      "|      6.6|   12.0| 29.7263|  102.279|05-09-2022 04:52|      0|\n",
      "|      6.6|   30.0|-32.6922| -178.959|14-08-2022 13:44|      1|\n",
      "|      7.0| 33.729| 17.5978|  120.809|27-07-2022 00:43|      1|\n",
      "|      6.5| 622.73| -9.0618| -71.1647|08-06-2022 00:55|      0|\n",
      "|      7.2|  236.0|-14.8628| -70.3081|26-05-2022 12:02|      1|\n",
      "|      6.9|   10.0|-54.1325|  159.027|19-05-2022 10:13|      1|\n",
      "+---------+-------+--------+---------+----------------+-------+\n",
      "only showing top 20 rows\n",
      "\n"
     ]
    }
   ],
   "source": [
    "import findspark\n",
    "findspark.init('/home/ubuntu/spark-3.2.1-bin-hadoop2.7')\n",
    "\n",
    "import pyspark \n",
    "from pyspark.sql import SparkSession\n",
    "\n",
    "spark = SparkSession.builder.appName('basics').getOrCreate()\n",
    "\n",
    "file_path = 'Dataset/earthquake_data.csv'\n",
    "earthquake_data = spark.read.csv(file_path, header=True, inferSchema=True)\n",
    "\n",
    "# Selecting the desired columns\n",
    "selected_columns = ['magnitude', 'depth', 'latitude', 'longitude','date_time','tsunami']\n",
    "selected_data = earthquake_data.select(selected_columns)\n",
    "\n",
    "# Display the top rows of the selected data\n",
    "selected_data.show()\n"
   ]
  },
  {
   "cell_type": "code",
   "execution_count": null,
   "id": "d49729b7",
   "metadata": {},
   "outputs": [],
   "source": []
  }
 ],
 "metadata": {
  "kernelspec": {
   "display_name": "Python 3 (ipykernel)",
   "language": "python",
   "name": "python3"
  },
  "language_info": {
   "codemirror_mode": {
    "name": "ipython",
    "version": 3
   },
   "file_extension": ".py",
   "mimetype": "text/x-python",
   "name": "python",
   "nbconvert_exporter": "python",
   "pygments_lexer": "ipython3",
   "version": "3.10.4"
  }
 },
 "nbformat": 4,
 "nbformat_minor": 5
}
